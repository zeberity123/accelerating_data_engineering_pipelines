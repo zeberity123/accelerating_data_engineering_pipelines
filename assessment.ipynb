{
 "cells": [
  {
   "cell_type": "markdown",
   "id": "a9ca31b9",
   "metadata": {},
   "source": [
    "<a href=\"https://www.nvidia.com/dli\"> <img src=\"images/DLI_Header.png\" alt=\"Header\" style=\"width: 400px;\"/> </a>"
   ]
  },
  {
   "cell_type": "markdown",
   "id": "07816534",
   "metadata": {},
   "source": [
    "# Final Project: Data Detective\n",
    "\n",
    "Here is the story: You have inherited this dashboard from a coworker that has gone on vacation. We want to let users query across stations, but *ughhhh* it's too slow!\n",
    "\n",
    "### Running the App\n",
    "The app is very similar to what we have worked in the previous set of notebooks. In fact, it uses the same set of ports, so please click the circle <img src=images/kernel.png width=15px/> to the left to make sure the kernels for the previous notebooks have been stopped. Press the ↻ above to restart the kernel for this notebook.\n",
    "\n",
    "Run the two cells below to build the link to the dashboard and build the dashboard itself. Unlike before, this dashboard runs continuously, so press the ■ above to stop it in order to make changes. Because of this, make sure to build the link to the dashboard before launching the dashboard itself.\n",
    "\n",
    "### Changing the Code\n",
    "Speaking of changes, our coworker has kindly left a handoff list with ideas on how to improve the dashboard. The code for the app is under [assessment/dash_app.py](assessment/dash_app.py).\n",
    "\n",
    "*Dear Colleague,*\n",
    "\n",
    "*I don't know how long I'll stay on this tropical island. Hopefully, forever. Here is a list of small fixes I wish I could do:*\n",
    "* *Right now, I'm only reading the data for one station. How do I get all of them?* \n",
    " * *I think I should update `lines 24 - 25`, and I'll need to add `compute()` somewhere...*\n",
    "* *The `to_pandas()` on `line 58` seems to be in a bad spot.*\n",
    " * *Should I delete it and add a `to_pandas()` line in `update_map` and `update_series`?*\n",
    "* *Right now, `update_series` produces a line for all loaded stations, but I want to make it show only one station.*\n",
    " * *I should update `line 218` and delete `line 219`.*\n",
    "* *I should make a test for data quality. Maybe I should add a `print(df.describe())` somewhere.*\n",
    " * *If something is wrong, bet I can fix it by adding one line.*\n",
    " \n",
    "*If I implement the above, I believe I can get each method to run under one second!*\n",
    " \n",
    "See if you can take your coworker up on their challenge. The assessment will be graded like so:\n",
    "\n",
    "Total available points: **100pts**\n",
    "Points needed to pass: **90pts**\n",
    "* `update_map` - This function will be called on five different days. **+10pts** for each day accurately evaluated **under one second**. \n",
    "* `update_series` - This function will be called on five different stations. **+10pts** for each station accurately evaulated **under one second**.\n",
    "\n",
    "We have left a copy of the original file in [assessment/copy.py](assessment/copy.py) for reference. Good luck!"
   ]
  },
  {
   "cell_type": "code",
   "execution_count": 3,
   "id": "62071bb9",
   "metadata": {},
   "outputs": [
    {
     "data": {
      "text/html": [
       "<a href=\"http://dli-69a8471a1f06-3b348a.aws.labs.courses.nvidia.com/plotly\">Link to Dashboard</a>"
      ],
      "text/plain": [
       "<IPython.core.display.HTML object>"
      ]
     },
     "metadata": {},
     "output_type": "display_data"
    }
   ],
   "source": [
    "from IPython.core.display import display, HTML\n",
    "my_url = \"http://dli-69a8471a1f06-3b348a.aws.labs.courses.nvidia.com/lab/lab\"\n",
    "my_url = my_url.rsplit(\".com\", 1)[0] + \".com/plotly\"\n",
    "display(HTML('<a href=\"' + my_url + '\">Link to Dashboard</a>'))"
   ]
  },
  {
   "cell_type": "markdown",
   "id": "b8ad9d2e",
   "metadata": {},
   "source": [
    "Build and run app. Press ■ to stop and make changes."
   ]
  },
  {
   "cell_type": "code",
   "execution_count": 4,
   "id": "672b8850",
   "metadata": {},
   "outputs": [
    {
     "name": "stdout",
     "output_type": "stream",
     "text": [
      "Loading data...\n",
      "       STATION   LATITUDE   LONGITUDE        DATE  DlySum\n",
      "0  AQC00914594 -14.333301 -170.766998  2019-09-29       0\n",
      "1  AQC00914594 -14.333301 -170.766998  2020-06-10       2\n",
      "2  AQC00914594 -14.333301 -170.766998  2020-06-12      22\n",
      "3  AQC00914594 -14.333301 -170.766998  2020-06-13      10\n",
      "4  AQC00914594 -14.333301 -170.766998  2020-06-14       0\n",
      "1.184680700302124 seconds\n",
      "Data loaded. Defining columns...\n",
      "           LATITUDE     LONGITUDE        DlySum        Inches         COLOR\n",
      "count  3.362372e+07  3.362372e+07  3.362372e+07  3.362372e+07  3.362372e+07\n",
      "mean   3.852200e+01 -9.846491e+01  1.762254e+06  1.762254e+04  3.197500e-02\n",
      "std    6.270281e+00  2.014303e+01  8.698082e+07  8.698082e+05  1.727840e-01\n",
      "min   -1.433330e+01 -1.707670e+02  0.000000e+00  0.000000e+00  0.000000e+00\n",
      "25%    3.481720e+01 -1.075500e+02  0.000000e+00  0.000000e+00  0.000000e+00\n",
      "50%    3.937360e+01 -9.593330e+01  0.000000e+00  0.000000e+00  0.000000e+00\n",
      "75%    4.305960e+01 -8.743900e+01  1.000000e+00  1.000000e-02  4.321000e-03\n",
      "max    6.740820e+01  1.457500e+02  4.294957e+09  4.294957e+07  7.632959e+00\n",
      "225.8818874359131 seconds\n",
      "Data computed. Defining Dash App...\n",
      "0.008090019226074219 seconds\n",
      "App defined. Creating Callbacks...\n",
      "0.0003132820129394531 seconds\n",
      "Callbacks created. App finished building.\n",
      "Dash is running on http://0.0.0.0:8050/\n",
      "\n",
      " * Serving Flask app 'dash_app' (lazy loading)\n",
      " * Environment: production\n",
      "\u001b[31m   WARNING: This is a development server. Do not use it in a production deployment.\u001b[0m\n",
      "\u001b[2m   Use a production WSGI server instead.\u001b[0m\n",
      " * Debug mode: off\n",
      " * Running on all addresses.\n",
      "   WARNING: This is a development server. Do not use it in a production deployment.\n",
      " * Running on http://172.18.0.3:8050/ (Press CTRL+C to quit)\n",
      "^C\n"
     ]
    }
   ],
   "source": [
    "!python3 -m assessment.dash_app"
   ]
  },
  {
   "cell_type": "markdown",
   "id": "62314007",
   "metadata": {},
   "source": [
    "## Run the Assessment\n",
    "\n",
    "To assess your solution, run the following cell after stopping (■) the previous cell. It will compare your solution to ours in order to verify accuracy. It will build `dash_app` in order to assess it, which takes a few minutes, so please double check your solution before submitting."
   ]
  },
  {
   "cell_type": "code",
   "execution_count": 17,
   "id": "2ce7b558",
   "metadata": {},
   "outputs": [
    {
     "name": "stdout",
     "output_type": "stream",
     "text": [
      "Loading data...\n",
      "       STATION   LATITUDE   LONGITUDE        DATE  DlySum\n",
      "0  AQC00914594 -14.333301 -170.766998  2019-09-29       0\n",
      "1  AQC00914594 -14.333301 -170.766998  2020-06-10       2\n",
      "2  AQC00914594 -14.333301 -170.766998  2020-06-12      22\n",
      "3  AQC00914594 -14.333301 -170.766998  2020-06-13      10\n",
      "4  AQC00914594 -14.333301 -170.766998  2020-06-14       0\n",
      "0.04983353614807129 seconds\n",
      "Data loaded. Defining columns...\n",
      "           LATITUDE     LONGITUDE        DlySum        Inches         COLOR\n",
      "count  3.360992e+07  3.360992e+07  3.360992e+07  3.360992e+07  3.360992e+07\n",
      "mean   3.852215e+01 -9.846561e+01  9.171941e+00  9.171900e-02  2.885500e-02\n",
      "std    6.270223e+00  2.014307e+01  3.085598e+01  3.085600e-01  7.836800e-02\n",
      "min   -1.433330e+01 -1.707670e+02  0.000000e+00  0.000000e+00  0.000000e+00\n",
      "25%    3.481720e+01 -1.075500e+02  0.000000e+00  0.000000e+00  0.000000e+00\n",
      "50%    3.937360e+01 -9.593330e+01  0.000000e+00  0.000000e+00  0.000000e+00\n",
      "75%    4.305960e+01 -8.743900e+01  1.000000e+00  1.000000e-02  4.321000e-03\n",
      "max    6.740820e+01  1.457500e+02  2.133000e+03  2.133000e+01  1.348889e+00\n",
      "40.638787031173706 seconds\n",
      "Data computed. Defining Dash App...\n",
      "0.005272626876831055 seconds\n",
      "App defined. Creating Callbacks...\n",
      "8.821487426757812e-05 seconds\n",
      "Callbacks created. App finished building.\n",
      "Testing update_map\n",
      "Speed Test for Date 1 - 0.10864710807800293 seconds\n",
      "Accuracy Test for Date 1 - True\n",
      "Tests pass for Date 1\n",
      "Speed Test for Date 2 - 0.08121728897094727 seconds\n",
      "Accuracy Test for Date 2 - True\n",
      "Tests pass for Date 2\n",
      "Speed Test for Date 3 - 0.08120012283325195 seconds\n",
      "Accuracy Test for Date 3 - True\n",
      "Tests pass for Date 3\n",
      "Speed Test for Date 4 - 0.08366203308105469 seconds\n",
      "Accuracy Test for Date 4 - True\n",
      "Tests pass for Date 4\n",
      "Speed Test for Date 5 - 0.08009052276611328 seconds\n",
      "Accuracy Test for Date 5 - True\n",
      "Tests pass for Date 5\n",
      "Testing update_series\n",
      "Speed Test for Station 1 - 0.08503055572509766 seconds\n",
      "Accuracy Test for Station 1 - True\n",
      "Tests pass for Station 1\n",
      "Speed Test for Station 2 - 0.1365032196044922 seconds\n",
      "Accuracy Test for Station 2 - True\n",
      "Tests pass for Station 2\n",
      "Speed Test for Station 3 - 0.1479482650756836 seconds\n",
      "Accuracy Test for Station 3 - True\n",
      "Tests pass for Station 3\n",
      "Speed Test for Station 4 - 0.18739938735961914 seconds\n",
      "Accuracy Test for Station 4 - True\n",
      "Tests pass for Station 4\n",
      "Speed Test for Station 5 - 0.12355160713195801 seconds\n",
      "Accuracy Test for Station 5 - True\n",
      "Tests pass for Station 5\n",
      "\n",
      "Congratulations! You passed the assessment!\n",
      "See instructions below to generate a certificate.\n"
     ]
    }
   ],
   "source": [
    "!python3 -m run_assessment"
   ]
  },
  {
   "cell_type": "markdown",
   "id": "834b39f2",
   "metadata": {},
   "source": [
    "## Generate a Certificate\n",
    "\n",
    "If you passed the assessment, please return to the course page (shown below) and click the \"ASSESS TASK\" button, which will generate your certificate for the course.\n",
    "\n",
    "<img src=\"./images/assess_task.png\" style=\"width: 800px;\">"
   ]
  },
  {
   "cell_type": "markdown",
   "id": "a5b2a963",
   "metadata": {},
   "source": [
    "<a href=\"https://www.nvidia.com/dli\"> <img src=\"images/DLI_Header.png\" alt=\"Header\" style=\"width: 400px;\"/> </a>"
   ]
  }
 ],
 "metadata": {
  "kernelspec": {
   "display_name": "Python 3",
   "language": "python",
   "name": "python3"
  },
  "language_info": {
   "codemirror_mode": {
    "name": "ipython",
    "version": 3
   },
   "file_extension": ".py",
   "mimetype": "text/x-python",
   "name": "python",
   "nbconvert_exporter": "python",
   "pygments_lexer": "ipython3",
   "version": "3.7.10"
  }
 },
 "nbformat": 4,
 "nbformat_minor": 5
}
